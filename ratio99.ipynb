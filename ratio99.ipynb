{
 "cells": [
  {
   "cell_type": "code",
   "execution_count": 150,
   "id": "f4e13c68-7299-4c0b-8cad-2380fb8399f4",
   "metadata": {},
   "outputs": [],
   "source": [
    "import ruptures as rpt\n",
    "import pandas as pd\n",
    "import matplotlib.pyplot as plt\n",
    "import numpy as np"
   ]
  },
  {
   "cell_type": "code",
   "execution_count": 316,
   "id": "6edbd157-b9c2-4afd-9af5-587deb6647be",
   "metadata": {},
   "outputs": [],
   "source": [
    "n_samples, dim, sigma = 200, 1, 2\n",
    "n_bkps = 0  # number of breakpoints\n",
    "signal, bkps = rpt.pw_constant(n_samples, dim, n_bkps, noise_std=sigma)"
   ]
  },
  {
   "cell_type": "code",
   "execution_count": 317,
   "id": "5925370a-c88a-4506-b759-7ef5b367b07a",
   "metadata": {},
   "outputs": [],
   "source": [
    "df = pd.DataFrame(signal)\n",
    "df.to_csv('./sig.csv', index=False)"
   ]
  },
  {
   "cell_type": "code",
   "execution_count": 322,
   "id": "ddb2bcb3-1fa7-4856-9e1d-ee824a9dd6df",
   "metadata": {},
   "outputs": [],
   "source": [
    "a = np.linspace(0, 3, num=200)\n",
    "win = 10\n",
    "df = pd.read_csv('./sig.csv')\n",
    "df['0'] = df['0']\n",
    "df['0'] = df['0'].rolling(win).mean()\n",
    "df['0'] = df['0']/3 + a\n",
    "df['ratio'] = (df['0'].shift(-1) - df['0'])\n",
    "raw = list(df['0'])\n",
    "tmp = list(df['ratio'])"
   ]
  },
  {
   "cell_type": "code",
   "execution_count": 323,
   "id": "dcd9db95-4ce4-4c3a-a03c-ebe2707678ab",
   "metadata": {},
   "outputs": [
    {
     "data": {
      "text/html": [
       "<div>\n",
       "<style scoped>\n",
       "    .dataframe tbody tr th:only-of-type {\n",
       "        vertical-align: middle;\n",
       "    }\n",
       "\n",
       "    .dataframe tbody tr th {\n",
       "        vertical-align: top;\n",
       "    }\n",
       "\n",
       "    .dataframe thead th {\n",
       "        text-align: right;\n",
       "    }\n",
       "</style>\n",
       "<table border=\"1\" class=\"dataframe\">\n",
       "  <thead>\n",
       "    <tr style=\"text-align: right;\">\n",
       "      <th></th>\n",
       "      <th>0</th>\n",
       "      <th>ratio</th>\n",
       "    </tr>\n",
       "  </thead>\n",
       "  <tbody>\n",
       "    <tr>\n",
       "      <th>0</th>\n",
       "      <td>NaN</td>\n",
       "      <td>NaN</td>\n",
       "    </tr>\n",
       "    <tr>\n",
       "      <th>1</th>\n",
       "      <td>NaN</td>\n",
       "      <td>NaN</td>\n",
       "    </tr>\n",
       "    <tr>\n",
       "      <th>2</th>\n",
       "      <td>NaN</td>\n",
       "      <td>NaN</td>\n",
       "    </tr>\n",
       "    <tr>\n",
       "      <th>3</th>\n",
       "      <td>NaN</td>\n",
       "      <td>NaN</td>\n",
       "    </tr>\n",
       "    <tr>\n",
       "      <th>4</th>\n",
       "      <td>NaN</td>\n",
       "      <td>NaN</td>\n",
       "    </tr>\n",
       "    <tr>\n",
       "      <th>...</th>\n",
       "      <td>...</td>\n",
       "      <td>...</td>\n",
       "    </tr>\n",
       "    <tr>\n",
       "      <th>195</th>\n",
       "      <td>4.792879</td>\n",
       "      <td>-0.001844</td>\n",
       "    </tr>\n",
       "    <tr>\n",
       "      <th>196</th>\n",
       "      <td>4.791035</td>\n",
       "      <td>-0.030990</td>\n",
       "    </tr>\n",
       "    <tr>\n",
       "      <th>197</th>\n",
       "      <td>4.760045</td>\n",
       "      <td>-0.266933</td>\n",
       "    </tr>\n",
       "    <tr>\n",
       "      <th>198</th>\n",
       "      <td>4.493112</td>\n",
       "      <td>-0.004303</td>\n",
       "    </tr>\n",
       "    <tr>\n",
       "      <th>199</th>\n",
       "      <td>4.488809</td>\n",
       "      <td>NaN</td>\n",
       "    </tr>\n",
       "  </tbody>\n",
       "</table>\n",
       "<p>200 rows × 2 columns</p>\n",
       "</div>"
      ],
      "text/plain": [
       "            0     ratio\n",
       "0         NaN       NaN\n",
       "1         NaN       NaN\n",
       "2         NaN       NaN\n",
       "3         NaN       NaN\n",
       "4         NaN       NaN\n",
       "..        ...       ...\n",
       "195  4.792879 -0.001844\n",
       "196  4.791035 -0.030990\n",
       "197  4.760045 -0.266933\n",
       "198  4.493112 -0.004303\n",
       "199  4.488809       NaN\n",
       "\n",
       "[200 rows x 2 columns]"
      ]
     },
     "execution_count": 323,
     "metadata": {},
     "output_type": "execute_result"
    }
   ],
   "source": [
    "df"
   ]
  },
  {
   "cell_type": "code",
   "execution_count": null,
   "id": "f72beff5-44f5-4341-8957-22d3e2786e09",
   "metadata": {},
   "outputs": [],
   "source": []
  },
  {
   "cell_type": "code",
   "execution_count": 347,
   "id": "ba44e244-3da3-4819-9083-b4ae0a6b64a5",
   "metadata": {
    "scrolled": true,
    "tags": []
   },
   "outputs": [
    {
     "name": "stdout",
     "output_type": "stream",
     "text": [
      "9\n",
      "------ -0.0003, 0.4809, 0 ------\n",
      "19\n",
      "------ -0.0295, 0.5530, 0 ------\n",
      "29\n",
      "------ 0.0576, 0.5629, 0 ------\n",
      "39\n",
      "------ -0.0873, 0.3983, 0 ------\n",
      "49\n",
      "------ 0.0187, 0.4526, 0 ------\n",
      "59\n",
      "------ 0.1012, 0.7951, 0 ------\n",
      "69\n",
      "------ -0.0233, 0.6989, 0 ------\n",
      "79\n",
      "------ -0.0411, 1.1783, 0 ------\n",
      "89\n",
      "------ 0.1653, 1.3541, 0 ------\n",
      "99\n",
      "------ -0.0871, 0.9675, 0 ------\n",
      "109\n",
      "------ 0.0555, 0.7217, 0 ------\n",
      "119\n",
      "------ -0.0415, 1.1403, 0 ------\n",
      "129\n",
      "------ 0.1360, 1.4766, 0 ------\n",
      "139\n",
      "------ -0.1086, 0.8197, 0 ------\n",
      "149\n",
      "------ 0.1572, 1.4359, 0 ------\n",
      "159\n",
      "------ -0.0572, 1.6438, 0 ------\n",
      "169\n",
      "------ -0.0439, 1.0878, 0 ------\n",
      "179\n",
      "------ 0.0496, 1.4011, 0 ------\n",
      "189\n",
      "------ -0.0043, 1.4157, 0 ------\n"
     ]
    }
   ],
   "source": [
    "p_ewr = []\n",
    "beta = 0.99\n",
    "si_cnt = 0\n",
    "# ewr = tmp[0] + raw[0]\n",
    "ewr = tmp[win-1]\n",
    "\n",
    "p_ewr.append(ewr)\n",
    "\n",
    "for idx,(i, j) in enumerate(zip(tmp[win-1:], raw[win-1:])):\n",
    "    # ewr = ewr * beta + i * (1-beta) + j\n",
    "    lll = ''\n",
    "    pre = ewr\n",
    "    \n",
    "    # ewr += i\n",
    "       \n",
    "    ewr = ewr * beta + i\n",
    "    p_ewr.append(ewr)\n",
    "    if np.sign(pre) == np.sign(ewr):\n",
    "        si_cnt += 1\n",
    "    else:\n",
    "        si_cnt -= 1\n",
    "    if abs(si_cnt) >= 10:\n",
    "        print(idx)\n",
    "        si_cnt = 0\n",
    "        lll = '------'\n",
    "        print(f'{lll} {i:2.4f}, {ewr:2.4f}, {si_cnt} {lll}')\n",
    "    "
   ]
  },
  {
   "cell_type": "code",
   "execution_count": 348,
   "id": "7dd16a33-de3c-45a2-8f40-aec4a6e4a2d8",
   "metadata": {},
   "outputs": [
    {
     "data": {
      "image/png": "[encoded data removed]",
      "text/plain": [
       "<Figure size 640x480 with 1 Axes>"
      ]
     },
     "metadata": {},
     "output_type": "display_data"
    }
   ],
   "source": [
    "\n",
    "plt.plot(range(len(tmp[win-1:])), raw[win-1:], color = 'black')\n",
    "plt.plot(range(len(tmp[win-1:])), p_ewr[1:], color = 'r')\n",
    "# plt.plot(range(len(tmp[:])), tmp[:], color = 'g')\n",
    "plt.show()"
   ]
  },
  {
   "cell_type": "code",
   "execution_count": null,
   "id": "a1a20888-c940-4de4-9297-3761b03cda1d",
   "metadata": {},
   "outputs": [],
   "source": []
  },
  {
   "cell_type": "code",
   "execution_count": null,
   "id": "dca0ad3e-cb6f-4e5d-8898-4a73bd1d59a5",
   "metadata": {},
   "outputs": [],
   "source": []
  }
 ],
 "metadata": {
  "kernelspec": {
   "display_name": "Python 3 (ipykernel)",
   "language": "python",
   "name": "python3"
  },
  "language_info": {
   "codemirror_mode": {
    "name": "ipython",
    "version": 3
   },
   "file_extension": ".py",
   "mimetype": "text/x-python",
   "name": "python",
   "nbconvert_exporter": "python",
   "pygments_lexer": "ipython3",
   "version": "3.9.16"
  }
 },
 "nbformat": 4,
 "nbformat_minor": 5
}
