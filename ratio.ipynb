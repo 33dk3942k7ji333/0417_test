{
 "cells": [
  {
   "cell_type": "code",
   "execution_count": null,
   "id": "3cf85a72-d0be-4171-a17a-509e1caa7367",
   "metadata": {},
   "outputs": [],
   "source": [
    "import pandas as pd\n",
    "import numpy as np"
   ]
  },
  {
   "cell_type": "code",
   "execution_count": null,
   "id": "10767054-c2ae-40cb-b857-c34beeb1b90c",
   "metadata": {},
   "outputs": [],
   "source": [
    "filename = 'data.csv'"
   ]
  },
  {
   "cell_type": "code",
   "execution_count": null,
   "id": "2e103d3d-7ade-4baf-8234-cf4431af6aa0",
   "metadata": {},
   "outputs": [],
   "source": [
    "df = pd.read_csv(filename)\n",
    "print(df.shape)"
   ]
  },
  {
   "cell_type": "code",
   "execution_count": null,
   "id": "81c11d18-6f5c-4846-8374-4a8fcf4ed7d6",
   "metadata": {},
   "outputs": [],
   "source": [
    "df[df['model'] == 'test01']['A']\n"
   ]
  },
  {
   "cell_type": "code",
   "execution_count": null,
   "id": "2b2ec852-4f9f-44e9-9e12-1d7a1967a0c3",
   "metadata": {},
   "outputs": [],
   "source": [
    "w_size = 3\n",
    "win_mean = df[df['model'] == 'test01']['A'].rolling(w_size).mean()[w_size-1:]\n",
    "print(win_mean)\n",
    "print(win_mean.shift(-1))"
   ]
  },
  {
   "cell_type": "code",
   "execution_count": null,
   "id": "49028606-4be4-42cb-87fb-d640d0b5ec01",
   "metadata": {},
   "outputs": [],
   "source": [
    "(win_mean / win_mean.shift(-1))[:-1]"
   ]
  },
  {
   "cell_type": "code",
   "execution_count": null,
   "id": "be8f6a91-02a0-49e4-8e21-19f882d44684",
   "metadata": {},
   "outputs": [],
   "source": []
  }
 ],
 "metadata": {
  "kernelspec": {
   "display_name": "Python 3 (ipykernel)",
   "language": "python",
   "name": "python3"
  },
  "language_info": {
   "codemirror_mode": {
    "name": "ipython",
    "version": 3
   },
   "file_extension": ".py",
   "mimetype": "text/x-python",
   "name": "python",
   "nbconvert_exporter": "python",
   "pygments_lexer": "ipython3",
   "version": "3.9.16"
  }
 },
 "nbformat": 4,
 "nbformat_minor": 5
}
